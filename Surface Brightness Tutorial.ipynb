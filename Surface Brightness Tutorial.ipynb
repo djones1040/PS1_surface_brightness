{
 "cells": [
  {
   "cell_type": "markdown",
   "metadata": {},
   "source": [
    "# Surface Brightness Measurements with PS1 Images"
   ]
  },
  {
   "cell_type": "markdown",
   "metadata": {},
   "source": [
    "Brief tutorial on measuring surface brightnesses from PS1!  The steps are just downloading the PS1 images, doing aperture photometry, and converting to surface brightness.  First, in Anaconda:\n",
    "\n",
    "```conda install astropy\n",
    "conda install photutils```\n",
    "\n",
    "Then, you'll have to download the version of Panstamps I forked from thespacedoctor on github and converted to python 3: \n",
    "\n",
    "```git clone https://github.com/djones1040/panstamps.git\n",
    "cd panstamps\n",
    "python setup.py install```\n",
    "\n",
    "Panstamps should work w/i Python, but I'm just gonna use os.system to do things at the command line."
   ]
  },
  {
   "cell_type": "code",
   "execution_count": 1,
   "metadata": {},
   "outputs": [
    {
     "name": "stderr",
     "output_type": "stream",
     "text": [
      "WARNING: leap-second auto-update failed due to the following exception: RuntimeError('attempted to use clear_download_cache on the path //anaconda3/lib/python3.7/site-packages/astropy/utils/iers/data/Leap_Second.dat outside the data cache directory /Users/David/.astropy/cache/download/py3') [astropy.time.core]\n"
     ]
    }
   ],
   "source": [
    "# initial imports\n",
    "import numpy as np\n",
    "import pylab as plt\n",
    "import os\n",
    "from astropy.io import fits\n",
    "from astropy.coordinates import SkyCoord\n",
    "import astropy.units as u\n",
    "from photutils import CircularAperture,SkyEllipticalAperture,aperture_photometry,EllipticalAnnulus\n",
    "from photutils.utils import calc_total_error\n",
    "from astropy.coordinates import SkyCoord\n",
    "from astropy.stats import sigma_clipped_stats\n",
    "from astropy import wcs\n",
    "import glob\n",
    "import cosmo"
   ]
  },
  {
   "cell_type": "markdown",
   "metadata": {},
   "source": [
    "Then, choose a random SN - 2018gv is easy"
   ]
  },
  {
   "cell_type": "code",
   "execution_count": 2,
   "metadata": {},
   "outputs": [],
   "source": [
    "snid = '2018gv'\n",
    "ra = 121.3940833\n",
    "dec = -11.4380194\n",
    "z = 0.005274\n",
    "snid = 'whirlpool'\n",
    "ra = 202.48417\n",
    "dec = 47.230560"
   ]
  },
  {
   "cell_type": "markdown",
   "metadata": {},
   "source": [
    "## Downloading the Images\n",
    "\n",
    "Run the Panstamps command - give this a couple min, seems like Jupyter isn't really reporting the full output but it's running.  It says it's done before it's actually done!"
   ]
  },
  {
   "cell_type": "code",
   "execution_count": null,
   "metadata": {},
   "outputs": [
    {
     "name": "stdout",
     "output_type": "stream",
     "text": [
      "running 'panstamps -f --width 60 --downloadFolder ps1_images/whirlpool stack 202.4841700 -11.4380194'\n"
     ]
    }
   ],
   "source": [
    "# https://panstamps.readthedocs.io/en/latest/_includes/index.html#documentation\n",
    "if not os.path.exists('ps1_images/%s'%snid):\n",
    "    os.makedirs('ps1_images/%s'%snid)\n",
    "\n",
    "# fits files, 60 arcmin width,custom download folder\n",
    "panstamps_cmd = \"panstamps -f --width 60 --downloadFolder ps1_images/%s stack %.7f %.7f\"%(snid,ra,dec)\n",
    "print(\"running '%s'\"%panstamps_cmd)\n",
    "os.system(panstamps_cmd)"
   ]
  },
  {
   "cell_type": "markdown",
   "metadata": {},
   "source": [
    "## Measuring Surface Brightness"
   ]
  },
  {
   "cell_type": "markdown",
   "metadata": {},
   "source": [
    "Let's measure surface brightness w/i a 2 kpc radius.  A little big for 2018gv, but should be ok for most of the SNe farther out in the Hubble flow."
   ]
  },
  {
   "cell_type": "code",
   "execution_count": 3,
   "metadata": {},
   "outputs": [
    {
     "name": "stdout",
     "output_type": "stream",
     "text": [
      "ps1_images/whirlpool/stack_r_ra202.484170_dec47.230560_arcsec1500_skycell2261.085.fits\n",
      "ps1_images/whirlpool/stack_i_ra202.484170_dec47.230560_arcsec1500_skycell2261.085.fits\n",
      "ps1_images/whirlpool/stack_g_ra202.484170_dec47.230560_arcsec1500_skycell2261.085.fits\n"
     ]
    },
    {
     "name": "stderr",
     "output_type": "stream",
     "text": [
      "WARNING: FITSFixedWarning: PC001001= -1. \n",
      "this form of the PCi_ja keyword is deprecated, use PCi_ja. [astropy.wcs.wcs]\n",
      "WARNING: FITSFixedWarning: PC001002= 0. \n",
      "this form of the PCi_ja keyword is deprecated, use PCi_ja. [astropy.wcs.wcs]\n",
      "WARNING: FITSFixedWarning: PC002001= 0. \n",
      "this form of the PCi_ja keyword is deprecated, use PCi_ja. [astropy.wcs.wcs]\n",
      "WARNING: FITSFixedWarning: PC002002= 1. \n",
      "this form of the PCi_ja keyword is deprecated, use PCi_ja. [astropy.wcs.wcs]\n",
      "WARNING: FITSFixedWarning: 'datfix' made the change 'Set DATE-OBS to '2012-11-15T12:16:01.984' from MJD-OBS'. [astropy.wcs.wcs]\n",
      "WARNING: FITSFixedWarning: 'datfix' made the change 'Set DATE-OBS to '2012-12-15T20:32:58.688' from MJD-OBS'. [astropy.wcs.wcs]\n",
      "WARNING: FITSFixedWarning: 'datfix' made the change 'Set DATE-OBS to '2012-08-13T22:28:43.852' from MJD-OBS'. [astropy.wcs.wcs]\n"
     ]
    }
   ],
   "source": [
    "## grab the images, figure out where in each image the SN position is in each\n",
    "files = glob.glob('ps1_images/%s/*fits'%snid)\n",
    "\n",
    "# for each image, get obs filter and image coordinates for the SN\n",
    "filters,xpos,ypos = [],[],[]\n",
    "for f in files:\n",
    "    print(f)\n",
    "    filters += [fits.getval(f,'FPA.FILTER').split('.')[0]]\n",
    "    ps1_wcs = wcs.WCS(fits.getheader(f))\n",
    "    snx,sny = ps1_wcs.wcs_world2pix([(ra,dec)],0)[0]\n",
    "    xpos += [snx]; ypos += [sny]"
   ]
  },
  {
   "cell_type": "code",
   "execution_count": 10,
   "metadata": {},
   "outputs": [],
   "source": [
    "apr_arcsec = 1.5 #(~1 FWHM)\n",
    "# arcsec to number of PS1 pixels (0.25 arcsec/pix)\n",
    "apr_pix = apr_arcsec/0.25"
   ]
  },
  {
   "cell_type": "code",
   "execution_count": 11,
   "metadata": {},
   "outputs": [],
   "source": [
    "## routine for doing the aperture photometry\n",
    "## note that no sky subtraction is done because PS1 images should already be sky-subtracted\n",
    "def doAperPhot(xpos,ypos,image,exptime,zpt,aprad,errorim=[],unit='counts/sec'):\n",
    "\n",
    "    if type(xpos) == np.ndarray:\n",
    "        positions = [(x,y) for x,y in zip(xpos,ypos)]\n",
    "    else:\n",
    "        positions = [(xpos,ypos)]\n",
    "\n",
    "    if not len(errorim):\n",
    "        # get the uncertainty from the sky standard deviation, sigma-clipped STD\n",
    "        avg,sky,skystd = sigma_clipped_stats(\n",
    "            image[(image != 0)],\n",
    "            sigma=3.0)\n",
    "\n",
    "    ap = CircularAperture(positions,r=aprad)\n",
    "\n",
    "    # this is a big weird, but part of checking if aperture extends beyond image\n",
    "    apermask = ap.to_mask(method='exact')[0]\n",
    "    imshape = np.shape(image)\n",
    "    apermask_full = apermask.to_image(imshape)\n",
    "    apermask_cols = np.where(apermask_full > 0)\n",
    "    if apermask.bbox.ixmin < 0 or apermask.bbox.iymin < 0 or \\\n",
    "       apermask.bbox.ixmax > imshape[1]-1 or apermask.bbox.iymax > imshape[0]-1:\n",
    "        print('Error : aperture extends outside the image!!')\n",
    "        if type(xpos) == np.ndarray:\n",
    "            return(np.array([np.nan]*len(xpos)),np.array([np.nan]*len(xpos)),np.array([np.nan]*len(xpos)),\n",
    "                   np.array([np.nan]*len(xpos)),np.array([1]*len(xpos)))\n",
    "        else:\n",
    "            return(np.nan,np.nan,np.nan,np.nan,1)\n",
    "    try:\n",
    "        apOutsideImageCols = np.where((apermask_cols[0] == 0) | (apermask_cols[1] == 0) |\n",
    "                                      (apermask_cols[0] == imshape[0]-1) | (apermask_cols[1] == imshape[1]-1))[0]\n",
    "    except:\n",
    "        import pdb; pdb.set_trace()\n",
    "\n",
    "    # check if aperture extends outside the image\n",
    "    if len(apOutsideImageCols):\n",
    "        print('Error : aperture extends outside the image!!')\n",
    "        if type(xpos) == np.ndarray:\n",
    "            return(np.array([np.nan]*len(xpos)),np.array([np.nan]*len(xpos)),\n",
    "                   np.array([sky]*len(xpos)),np.array([np.nan]*len(xpos)),np.array([1]*len(xpos)))\n",
    "        else:\n",
    "            return(np.nan,np.nan,sky,np.nan,1)\n",
    "\n",
    "    if len(errorim):\n",
    "        phot_table = aperture_photometry(image, ap, error=errorim)\n",
    "    else:\n",
    "        # calc error from sky standard deviation and image data (poisson noise & sky std)\n",
    "        if unit == 'counts/sec':\n",
    "            err = calc_total_error(image, skystd, exptime)\n",
    "        else:\n",
    "            err = calc_total_error(image, skystd, 1.0)\n",
    "        phot_table = aperture_photometry(image, ap, error=err)\n",
    "\n",
    "    if type(xpos) == np.ndarray:\n",
    "        flux = phot_table['aperture_sum']\t\n",
    "        fluxerr = phot_table['aperture_sum_err']#**2.#+ skystd**2./ellap.area() )\n",
    "    else:\n",
    "        flux = phot_table['aperture_sum'][0]\t\n",
    "        fluxerr = phot_table['aperture_sum_err'][0]#**2.#+ skystd**2./ellap.area() )\n",
    "\n",
    "    mag = -2.5*np.log10(flux) + zpt\n",
    "    magerr = 2.5/np.log(10)*fluxerr/flux\n",
    "\n",
    "    return(mag,magerr,flux,fluxerr,0)\n"
   ]
  },
  {
   "cell_type": "code",
   "execution_count": 12,
   "metadata": {},
   "outputs": [
    {
     "name": "stderr",
     "output_type": "stream",
     "text": [
      "WARNING: Input data contains invalid values (NaNs or infs), which were automatically clipped. [astropy.stats.sigma_clipping]\n"
     ]
    },
    {
     "name": "stdout",
     "output_type": "stream",
     "text": [
      "r: 22.183\n"
     ]
    },
    {
     "name": "stderr",
     "output_type": "stream",
     "text": [
      "WARNING: Input data contains invalid values (NaNs or infs), which were automatically clipped. [astropy.stats.sigma_clipping]\n"
     ]
    },
    {
     "name": "stdout",
     "output_type": "stream",
     "text": [
      "i: 21.747\n"
     ]
    },
    {
     "name": "stderr",
     "output_type": "stream",
     "text": [
      "WARNING: Input data contains invalid values (NaNs or infs), which were automatically clipped. [astropy.stats.sigma_clipping]\n"
     ]
    },
    {
     "name": "stdout",
     "output_type": "stream",
     "text": [
      "g: 23.150\n"
     ]
    }
   ],
   "source": [
    "## let's do some aperture photometry!\n",
    "for f,x,y,flt in zip(files,xpos,ypos,filters):\n",
    "    image = fits.getdata(f)\n",
    "    header = fits.getheader(f)\n",
    "    # PS1 zeropoints are set to 25 + 2.5*log10(exptime)\n",
    "    mag,magerr,flux,fluxerr,badflag = \\\n",
    "        doAperPhot(x,y,image,header['EXPTIME'],25.+2.5*np.log10(float(header['EXPTIME'])),\n",
    "                   apr_pix,unit='counts')\n",
    "    # wikipedia says surface brightness is mag + 2.5*np.log10(area)\n",
    "    sb = mag + 2.5*np.log10(np.pi*apr_arcsec**2.)\n",
    "    print('%s: %.3f'%(flt,sb))"
   ]
  },
  {
   "cell_type": "code",
   "execution_count": null,
   "metadata": {},
   "outputs": [],
   "source": []
  }
 ],
 "metadata": {
  "kernelspec": {
   "display_name": "Python 3",
   "language": "python",
   "name": "python3"
  },
  "language_info": {
   "codemirror_mode": {
    "name": "ipython",
    "version": 3
   },
   "file_extension": ".py",
   "mimetype": "text/x-python",
   "name": "python",
   "nbconvert_exporter": "python",
   "pygments_lexer": "ipython3",
   "version": "3.7.3"
  }
 },
 "nbformat": 4,
 "nbformat_minor": 2
}
